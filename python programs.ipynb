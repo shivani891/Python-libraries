{
 "cells": [
  {
   "cell_type": "markdown",
   "id": "f7010cbf",
   "metadata": {},
   "source": [
    "# Write a python program in python to produce Star Traingle"
   ]
  },
  {
   "cell_type": "code",
   "execution_count": 1,
   "id": "de0b9ba6",
   "metadata": {},
   "outputs": [
    {
     "name": "stdout",
     "output_type": "stream",
     "text": [
      "\n",
      "*\n",
      "**\n",
      "***\n",
      "****\n"
     ]
    }
   ],
   "source": [
    "for i in range(5):\n",
    "    for j in range(1,i+1):\n",
    "        print(\"*\",end=\"\")\n",
    "    print()"
   ]
  },
  {
   "cell_type": "markdown",
   "id": "b6b7f59d",
   "metadata": {},
   "source": [
    "# Write a program to produce fibonacci series in python"
   ]
  },
  {
   "cell_type": "code",
   "execution_count": 2,
   "id": "5b403db8",
   "metadata": {},
   "outputs": [
    {
     "name": "stdout",
     "output_type": "stream",
     "text": [
      "enter a number:10\n",
      "0\n",
      "1\n",
      "1\n",
      "2\n",
      "3\n",
      "5\n",
      "8\n",
      "13\n",
      "21\n",
      "34\n"
     ]
    }
   ],
   "source": [
    "# using recursion\n",
    "def fibonacci(n):\n",
    "    if n<=1:\n",
    "        return n\n",
    "    else:\n",
    "        return (fibonacci(n-1) + fibonacci(n-2))\n",
    "n = int(input(\"enter a number:\"))\n",
    "for i in range(n):\n",
    "    print(fibonacci(i))"
   ]
  },
  {
   "cell_type": "code",
   "execution_count": 4,
   "id": "d667ab7f",
   "metadata": {},
   "outputs": [
    {
     "name": "stdout",
     "output_type": "stream",
     "text": [
      "0\n",
      "1\n",
      "1\n",
      "2\n",
      "3\n",
      "5\n",
      "8\n",
      "13\n",
      "21\n",
      "34\n"
     ]
    }
   ],
   "source": [
    "# using generator\n",
    "def fibonacci(n):\n",
    "    a,b = 0,1\n",
    "    while True:\n",
    "        yield a\n",
    "        a,b = b,a+b\n",
    "f1 = fibonacci(n)\n",
    "print(next(f1))\n",
    "print(next(f1))\n",
    "print(next(f1))\n",
    "print(next(f1))\n",
    "print(next(f1))\n",
    "print(next(f1))\n",
    "print(next(f1))\n",
    "print(next(f1))\n",
    "print(next(f1))\n",
    "print(next(f1))"
   ]
  },
  {
   "cell_type": "markdown",
   "id": "8cf144bf",
   "metadata": {},
   "source": [
    "# Write a program to check if a number is prime number"
   ]
  },
  {
   "cell_type": "code",
   "execution_count": 5,
   "id": "59d14156",
   "metadata": {},
   "outputs": [
    {
     "name": "stdout",
     "output_type": "stream",
     "text": [
      "enter a number:11\n",
      "11 is a prime number\n"
     ]
    }
   ],
   "source": [
    "num = int(input(\"enter a number:\"))\n",
    "if num>1:\n",
    "    for i in range(2,num):\n",
    "        if num%i==0:\n",
    "            print(num,\"is not a prime number\")\n",
    "            break\n",
    "    else:\n",
    "        print(num,\"is a prime number\")\n",
    "else:\n",
    "    print(num,\"is a prime number\")\n",
    "        "
   ]
  },
  {
   "cell_type": "markdown",
   "id": "30a37874",
   "metadata": {},
   "source": [
    "# Write a program in python to check if a sequence is a palindrome"
   ]
  },
  {
   "cell_type": "code",
   "execution_count": 6,
   "id": "af256000",
   "metadata": {},
   "outputs": [
    {
     "name": "stdout",
     "output_type": "stream",
     "text": [
      "enter a  string:madam\n",
      "string is palinddrome\n"
     ]
    }
   ],
   "source": [
    "def is_palindrome(s):\n",
    "    return s==s[::-1]\n",
    "s = input(\"enter a  string:\")\n",
    "if is_palindrome:\n",
    "    print(\"string is palinddrome\")\n",
    "else:\n",
    "    print(\"string is not a plaindrome\")"
   ]
  },
  {
   "cell_type": "markdown",
   "id": "4ad87a63",
   "metadata": {},
   "source": [
    "# check whether the number is an amstrong number or not"
   ]
  },
  {
   "cell_type": "code",
   "execution_count": 8,
   "id": "754a057b",
   "metadata": {},
   "outputs": [
    {
     "name": "stdout",
     "output_type": "stream",
     "text": [
      "enter a number:153\n",
      "is an amstrong number\n"
     ]
    }
   ],
   "source": [
    "num = int(input(\"enter a number:\"))\n",
    "temp = num\n",
    "sum = 0\n",
    "while temp>0:\n",
    "    digit = temp%10\n",
    "    sum = sum + digit ** 3\n",
    "    temp = temp//10\n",
    "if num==sum:\n",
    "    print(\"is an amstrong number\")\n",
    "else:\n",
    "    print(\"is not a amstrong number\")"
   ]
  },
  {
   "cell_type": "markdown",
   "id": "7252bd9a",
   "metadata": {},
   "source": [
    "# write a program to find the factorial of given number"
   ]
  },
  {
   "cell_type": "code",
   "execution_count": 11,
   "id": "4d55603d",
   "metadata": {},
   "outputs": [
    {
     "name": "stdout",
     "output_type": "stream",
     "text": [
      "enter a number:5\n",
      "factorial number of 5 is 120\n"
     ]
    }
   ],
   "source": [
    "def factorial(n):\n",
    "    if n==1:\n",
    "        return 1\n",
    "    else:\n",
    "        return n*factorial(n-1)\n",
    "n = int(input(\"enter a number:\"))\n",
    "result = factorial(n)\n",
    "print(\"factorial number of\",n,\"is\",result)"
   ]
  },
  {
   "cell_type": "markdown",
   "id": "752386d1",
   "metadata": {},
   "source": [
    "# Write a program that prints the numbers from 1 to n"
   ]
  },
  {
   "cell_type": "code",
   "execution_count": 12,
   "id": "a6f912ee",
   "metadata": {},
   "outputs": [
    {
     "name": "stdout",
     "output_type": "stream",
     "text": [
      "1\n",
      "2\n",
      "fizz\n",
      "4\n",
      "buzz\n",
      "fizz\n",
      "7\n",
      "8\n",
      "fizz\n",
      "buzz\n",
      "11\n",
      "fizz\n",
      "13\n",
      "14\n",
      "fizz\n"
     ]
    }
   ],
   "source": [
    "def fizzbuzz(n):\n",
    "  for i in range(1,n+1):\n",
    "    if i%3==0:\n",
    "      print(\"fizz\")\n",
    "    elif i%5==0:\n",
    "      print('buzz')\n",
    "    elif i%3==0 and i%5==0:\n",
    "      print(\"fizzbuzz\")\n",
    "    else:\n",
    "      print(i)\n",
    "fizzbuzz(15)"
   ]
  },
  {
   "cell_type": "markdown",
   "id": "6f963f3b",
   "metadata": {},
   "source": [
    "# Reverse Floyd's Traingle Number"
   ]
  },
  {
   "cell_type": "code",
   "execution_count": 13,
   "id": "452bc829",
   "metadata": {},
   "outputs": [
    {
     "name": "stdout",
     "output_type": "stream",
     "text": [
      "enter a number:5\n",
      "15  \n",
      "14  13  \n",
      "12  11  10  \n",
      "9   8   7   6   \n",
      "5   4   3   2   1   \n"
     ]
    }
   ],
   "source": [
    "n = int(input(\"enter a number:\"))\n",
    "k = 0\n",
    "for i in range(n):\n",
    "    k = k+i\n",
    "m = n+k\n",
    "for i in range(n):\n",
    "    for j in range(i+1):\n",
    "        print(format(m,\"<3\"),end=\" \")\n",
    "        m = m-1\n",
    "    print()"
   ]
  },
  {
   "cell_type": "code",
   "execution_count": 19,
   "id": "9e0e2c6c",
   "metadata": {},
   "outputs": [
    {
     "name": "stdout",
     "output_type": "stream",
     "text": [
      "enter a number:5\n",
      "1 \n",
      "2 3 \n",
      "4 5 6 \n",
      "7 8 9 10 \n",
      "11 12 13 14 15 \n"
     ]
    }
   ],
   "source": [
    "n = int(input(\"enter a number:\"))\n",
    "k = 1\n",
    "for i in range(1,n+1):\n",
    "    for j in range(1,i+1):\n",
    "        print(k,end=\" \")\n",
    "        k = k+1\n",
    "    print()"
   ]
  },
  {
   "cell_type": "markdown",
   "id": "9dc11a20",
   "metadata": {},
   "source": [
    "# Write a program to print the given number is even or odd"
   ]
  },
  {
   "cell_type": "code",
   "execution_count": 20,
   "id": "26a2fa0b",
   "metadata": {},
   "outputs": [
    {
     "name": "stdout",
     "output_type": "stream",
     "text": [
      "enter a number:5\n",
      "5 is odd number\n"
     ]
    }
   ],
   "source": [
    "n = int(input(\"enter a number:\"))\n",
    "if n%2==0:\n",
    "    print(n,\"is even number\")\n",
    "else:\n",
    "    print(n,\"is odd number\")"
   ]
  },
  {
   "cell_type": "code",
   "execution_count": null,
   "id": "1c525092",
   "metadata": {},
   "outputs": [],
   "source": []
  }
 ],
 "metadata": {
  "kernelspec": {
   "display_name": "Python 3 (ipykernel)",
   "language": "python",
   "name": "python3"
  },
  "language_info": {
   "codemirror_mode": {
    "name": "ipython",
    "version": 3
   },
   "file_extension": ".py",
   "mimetype": "text/x-python",
   "name": "python",
   "nbconvert_exporter": "python",
   "pygments_lexer": "ipython3",
   "version": "3.11.4"
  }
 },
 "nbformat": 4,
 "nbformat_minor": 5
}
